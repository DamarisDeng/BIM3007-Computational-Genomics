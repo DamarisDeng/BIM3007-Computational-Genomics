{
 "cells": [
  {
   "cell_type": "code",
   "execution_count": 36,
   "metadata": {},
   "outputs": [],
   "source": [
    "import pandas as pd\n",
    "import matplotlib.pyplot as plt"
   ]
  },
  {
   "cell_type": "code",
   "execution_count": 37,
   "metadata": {},
   "outputs": [],
   "source": [
    "def extract(seq, pos):\n",
    "    '''Given a sequence and a position, return a 13-mer centered on the position.'''\n",
    "    if pos < 7:\n",
    "        seq = 'X'*(7-pos) + seq\n",
    "        pos = 7\n",
    "    elif len(seq) - pos < 6:\n",
    "        seq = seq + 'X'*(6 - (len(seq) - pos))  \n",
    "    return seq[pos-7:pos+6]\n",
    "\n",
    "data = pd.read_csv('Ubiquitination_sites.txt', sep='\\t')\n",
    "data1 = data.drop(['PLMD ID', 'Species', 'PMIDs', 'Type', 'Uniprot Accession'], axis=1)\n",
    "position = data1['Position']\n",
    "\n",
    "positive = list()\n",
    "for i in range(8000):\n",
    "    sequence = data1['Sequence'][i]\n",
    "    pos = position[i] \n",
    "    positive.append(extract(sequence, pos))\n",
    "\n",
    "data1['positive'] = positive\n"
   ]
  },
  {
   "cell_type": "code",
   "execution_count": 38,
   "metadata": {},
   "outputs": [],
   "source": [
    "# merge the identical sequences\n",
    "data2 = pd.DataFrame(data1.groupby('Sequence').apply(lambda x: x['Position'].tolist()))\n",
    "data2.reset_index(inplace=True)\n",
    "data2.columns = ['sequence', 'positive'] # change names\n",
    "sequences = data2['sequence']\n",
    "all_K_position = []\n",
    "for sequence in sequences:\n",
    "    # identify all the positions of K\n",
    "    K_position = [i for i in range(len(sequence)) if sequence[i] == 'K']\n",
    "    all_K_position.append(K_position)\n",
    "data2['all'] = all_K_position\n",
    "\n",
    "negatives = []\n",
    "for i in range(len(data2)):\n",
    "    positive = data2['positive'][i]\n",
    "    all_position = data2['all'][i]\n",
    "    negative = [a+1 for a in all_position if all(abs(a - b) > 6 for b in positive)] # remove negatives that are too close to the positive\n",
    "    negatives.append(negative)\n",
    "data2['negative'] = negatives"
   ]
  },
  {
   "cell_type": "code",
   "execution_count": 41,
   "metadata": {},
   "outputs": [],
   "source": [
    "# output positive and negative sequences\n",
    "negative = open('negative.txt', 'w')\n",
    "neg_seq = []\n",
    "i = 0\n",
    "for row in range(len(sequences)):\n",
    "    # write negatives\n",
    "    sequence = sequences[row]\n",
    "    for pos in data2['negative'][row]: \n",
    "        negative.write('> '+ str(i) + '\\n')\n",
    "        seq = extract(sequence, pos)\n",
    "        negative.write(seq + '\\n')\n",
    "        neg_seq.append(seq)\n",
    "        i += 1\n",
    "negative.close()\n",
    "\n",
    "positive = open('positive.txt', 'w')\n",
    "pos_seq = []\n",
    "for i in range(8000):\n",
    "    positive.write('> '+str(i) + '\\n')\n",
    "    seq2 = data1['positive'][i]\n",
    "    positive.write(seq2 + '\\n')\n",
    "    pos_seq.append(seq2)\n",
    "positive.close()"
   ]
  },
  {
   "cell_type": "code",
   "execution_count": 70,
   "metadata": {},
   "outputs": [],
   "source": [
    "# calculate the frequency of each amino acid\n",
    "# initialize the dictionary\n",
    "def calculate_AAC(seqlist):\n",
    "    frq = dict(zip('ACDEFGHIKLMNPQRSTVWY', [0]*20))\n",
    "    for seq in seqlist:\n",
    "        for aa in frq.keys():\n",
    "            frq[aa] += seq.count(aa)\n",
    "    # normalize the frequency\n",
    "    for aa in frq.keys():\n",
    "        frq[aa] = frq[aa]/len(seqlist)/13\n",
    "    return frq"
   ]
  },
  {
   "cell_type": "code",
   "execution_count": 71,
   "metadata": {},
   "outputs": [],
   "source": [
    "pos_frq = calculate_AAC(pos_seq)\n",
    "neg_frq = calculate_AAC(neg_seq)"
   ]
  },
  {
   "cell_type": "code",
   "execution_count": 77,
   "metadata": {},
   "outputs": [
    {
     "data": {
      "text/plain": [
       "Text(0.5, 1.0, 'Comparsion of AAC between positive and negative sequences')"
      ]
     },
     "execution_count": 77,
     "metadata": {},
     "output_type": "execute_result"
    },
    {
     "data": {
      "text/plain": [
       "<Figure size 2000x1000 with 0 Axes>"
      ]
     },
     "metadata": {},
     "output_type": "display_data"
    },
    {
     "data": {
      "image/png": "[encoded data removed]",
      "text/plain": [
       "<Figure size 720x360 with 1 Axes>"
      ]
     },
     "metadata": {},
     "output_type": "display_data"
    }
   ],
   "source": [
    "plt.style.use('ggplot')\n",
    "plt.figure(figsize=(10, 5),dpi=200)\n",
    "frq = pd.DataFrame([pos_frq, neg_frq], index=['positive', 'negative'])\n",
    "frq.transpose().plot(kind='bar', figsize=(10, 5), rot=0)\n",
    "plt.title('Comparsion of AAC between positive and negative sequences')"
   ]
  }
 ],
 "metadata": {
  "kernelspec": {
   "display_name": "Python 3.8.5 ('base')",
   "language": "python",
   "name": "python3"
  },
  "language_info": {
   "codemirror_mode": {
    "name": "ipython",
    "version": 3
   },
   "file_extension": ".py",
   "mimetype": "text/x-python",
   "name": "python",
   "nbconvert_exporter": "python",
   "pygments_lexer": "ipython3",
   "version": "3.8.5"
  },
  "orig_nbformat": 4,
  "vscode": {
   "interpreter": {
    "hash": "5684c24e7b5fcef90f2a57823d93e544ff1f9f38d3d0df1544269a25d13d98c4"
   }
  }
 },
 "nbformat": 4,
 "nbformat_minor": 2
}
